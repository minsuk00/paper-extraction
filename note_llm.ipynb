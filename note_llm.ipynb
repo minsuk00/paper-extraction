{
 "cells": [
  {
   "cell_type": "markdown",
   "metadata": {},
   "source": [
    "# Note\n"
   ]
  },
  {
   "cell_type": "markdown",
   "metadata": {},
   "source": []
  },
  {
   "cell_type": "markdown",
   "metadata": {},
   "source": [
    "# TODO\n"
   ]
  },
  {
   "cell_type": "markdown",
   "metadata": {},
   "source": [
    "check performance\n",
    "try llm\n"
   ]
  },
  {
   "cell_type": "markdown",
   "metadata": {},
   "source": [
    "# Things to talk about\n"
   ]
  },
  {
   "cell_type": "markdown",
   "metadata": {},
   "source": [
    "- regex much faster. optimized. 1000 in 20 sec\n",
    "- problem with pdf. -> what to do with these?\n",
    "  - OpenAlex -> open access different from paper\n",
    "    - W2194775991\n",
    "    - W2143981217\n",
    "    - name is \"None\"\n",
    "  - PyPDFLoader error\n",
    "    - HTTPSConnectionPool(host='repositorio.unal.edu.co', port=443)\n",
    "    - PdfStreamError: Stream has ended unexpectedly\n"
   ]
  }
 ],
 "metadata": {
  "language_info": {
   "name": "python"
  }
 },
 "nbformat": 4,
 "nbformat_minor": 2
}
