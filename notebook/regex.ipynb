{
 "cells": [
  {
   "cell_type": "code",
   "execution_count": 3,
   "metadata": {},
   "outputs": [],
   "source": [
    "import os\n",
    "import sys\n",
    "\n",
    "sys.path.append(\"../code\")\n",
    "from util import extract_pdf_to_txt"
   ]
  },
  {
   "cell_type": "code",
   "execution_count": 5,
   "metadata": {},
   "outputs": [],
   "source": [
    "done = os.listdir(\"../text\")\n",
    "for filename in os.listdir(\"../pdf\"):\n",
    "    if (filename + \".txt\") in done:\n",
    "        continue\n",
    "    extract_pdf_to_txt(filename, filename, \"local\")"
   ]
  },
  {
   "cell_type": "code",
   "execution_count": 7,
   "metadata": {},
   "outputs": [
    {
     "data": {
      "text/plain": [
       "116"
      ]
     },
     "execution_count": 7,
     "metadata": {},
     "output_type": "execute_result"
    }
   ],
   "source": [
    "done = os.listdir(\"../text\")\n",
    "len(done)"
   ]
  },
  {
   "cell_type": "markdown",
   "metadata": {},
   "source": [
    "# Google Sheets\n"
   ]
  },
  {
   "cell_type": "code",
   "execution_count": 82,
   "metadata": {},
   "outputs": [],
   "source": [
    "import gspread"
   ]
  },
  {
   "cell_type": "code",
   "execution_count": 8,
   "metadata": {},
   "outputs": [
    {
     "name": "stdout",
     "output_type": "stream",
     "text": [
      "FALSE\n",
      "None\n"
     ]
    },
    {
     "data": {
      "text/plain": [
       "{'spreadsheetId': '1KunlZNe9InDjmYCOpgj4wgIAScObBxh237bCOpUcUCQ',\n",
       " 'updatedRange': 'Sheet1!C10',\n",
       " 'updatedRows': 1,\n",
       " 'updatedColumns': 1,\n",
       " 'updatedCells': 1}"
      ]
     },
     "execution_count": 8,
     "metadata": {},
     "output_type": "execute_result"
    }
   ],
   "source": [
    "# connect to the service account\n",
    "gc = gspread.service_account(filename=\"../creds.json\")\n",
    "\n",
    "sh = gc.open(\"Paper Extraction Evaluation\").sheet1\n",
    "sh.update_cell(10, 3, \"helloooo\")"
   ]
  },
  {
   "cell_type": "markdown",
   "metadata": {},
   "source": [
    "# RegEx\n"
   ]
  },
  {
   "cell_type": "code",
   "execution_count": 135,
   "metadata": {},
   "outputs": [],
   "source": [
    "import re\n",
    "\n",
    "import sys\n",
    "\n",
    "sys.path.append(\"../code\")\n",
    "\n",
    "from util import extract_doi_to_txt, get_string_from_text_file"
   ]
  },
  {
   "cell_type": "code",
   "execution_count": 213,
   "metadata": {},
   "outputs": [],
   "source": [
    "# ***Last line should not contain \"|\"***\n",
    "regex_method = r\"\"\"\n",
    "    ^\\s*\\d?[.]?\\s?(Our(\\s))?Method(s)?(ology)?\\s*$|# \"method\" \"methods\" \"methodology\"\n",
    "    ^\\s*\\d?[.]?\\s?Material(s)?((\\s)and(\\s)Methods)?\\s*$| # \"materials and methods\" \"material\" \"materials\"\n",
    "    ^\\s*\\d?[.]?\\s?Approach(es)?\\s*$ # \"approach\"\n",
    "\"\"\"\n",
    "\n",
    "# ***Last line should not contain \"|\"***\n",
    "regex_result_only = r\"\"\"\n",
    "    ^\\s*\\d?[.]?\\s?Result(s)?((\\s)and(\\s)(discussion|analysis))?\\s*$| # \"result\" \"results\" \"results and discussion\"\n",
    "    ^\\s*\\d?[.]?\\s?Empirical(\\s)Result(s)?\\s*$ # \"result\" \"results\" \"results and discussion\"\n",
    "    \n",
    "\"\"\"\n",
    "# ***Last line should not contain \"|\"***\n",
    "regex_result_others = r\"\"\"\n",
    "    ^\\s*\\d?[.]?\\s?Experiment(s)?((\\s)and(\\s)discussion(s)?)?\\s*$| # \"experiment\" \"experiments\" \"experiments and discussions\"\n",
    "    ^\\s*\\d?[.]?\\s?Evaluation(s)?((\\s)and(\\s)comparison(s)?)?\\s*$| # \"evaluation\" \"evaluations\" \"evaluation and comparisons\"\n",
    "    ^\\s*\\d?[.]?\\s?Comparison(s)?((\\s)with(\\s)State-of-the-arts)?\\s*$ # \"comparison\" \"comparison with state-of-the-arts\"\n",
    "\"\"\"\n",
    "\n",
    "# ***Last line should not contain \"|\"***\n",
    "regex_extra = r\"\"\"\n",
    "    ^\\s*\\d?[.]?\\s?(Further(\\s))?Discussion(s)?\\s*$| # \"discussion\" \"discussions\"\n",
    "    ^\\s*\\d?[.]?\\s?Reference(s)?\\s*$| # \"reference\" \"references\"\n",
    "    ^\\s*\\d?[.]?\\s?Conclusion\\s*$| # \"conclusion\"\n",
    "    ^\\s*\\d?[.]?\\s?Literature(\\s)Review\\s*$| # \"literature review\"\n",
    "    ^\\s*\\d?[.]?\\s?Introduction\\s*$| # \"introduction\"\n",
    "    ^\\s*\\d?[.]?\\s?Abstract\\s*$| # \"abstract\"\n",
    "    ^\\s*\\d?[.]?\\s?Limitation(s)?(\\s)and(\\s)Discussion(s)?\\s*$| # \"limitation\" \"limitations\"\n",
    "    ^\\s*\\d?[.]?\\s?Appendi(x)?(ces)?\\s*$| # \"appendix\" \"appendices\"\n",
    "    ^\\s*\\d?[.]?\\s?Bibliography\\s*$| # \"bibliography\"\n",
    "    ^\\s*\\d?[.]?\\s?Acknowledgement(s)?\\s*$| # \"acknowledgement\" \"acknowledgements\"\n",
    "    ^\\s*\\d?[.]?\\s?Tables(\\s)and(\\s)Figures\\s*$| # \"tables and figures\"\n",
    "    ^\\s*\\d?[.]?\\s?(Related|Previous)(\\s)Work\\s*$| # \"related work\"\n",
    "    ^\\s*\\d?[.]?\\s?Analysis\\s*$| # \"analysis\"\n",
    "    ^\\s*\\d?[.]?\\s?(Additional(\\s))?Ablation(\\s)Stud(y|ies)\\s*$| # \"analysis\" \"ablation study\" \"additional ablation study\"\n",
    "    ^\\s*\\d?[.]?\\s?Preliminar(y|ies)\\s*$| # \"preliminary\"\n",
    "    ^\\s*\\d?[.]?\\s?Experiment(\\s)Setup\\s*$ # \"experiment setup\"\n",
    "\"\"\"\n",
    "\n",
    "regex_total = (\n",
    "    regex_method\n",
    "    + \"|\"\n",
    "    + regex_result_only\n",
    "    + \"|\"\n",
    "    + regex_result_others\n",
    "    + \"|\"\n",
    "    + regex_extra\n",
    ")"
   ]
  },
  {
   "cell_type": "markdown",
   "metadata": {},
   "source": [
    "# Testing\n"
   ]
  },
  {
   "cell_type": "code",
   "execution_count": 76,
   "metadata": {},
   "outputs": [
    {
     "name": "stdout",
     "output_type": "stream",
     "text": [
      "\n",
      "    ^\\d?[.]?\\s?Method(s)?(ology)?$|# \"method\" \"methods\" \"methodology\"\n",
      "    ^\\d?[.]?\\s?Material(s)?((\\s)and(\\s)Methods)?$ # \"materials and methods\" \"material\" \"materials\"\n",
      "|\n",
      "    ^\\d?[.]?\\s?Result(s)?((\\s)and(\\s)discussion)?$| # \"result\" \"results\" \"results and discussion\"\n",
      "    ^\\d?[.]?\\s?Empirical(\\s)Result(s)?$ # \"result\" \"results\" \"results and discussion\"\n",
      "    \n",
      "|\n",
      "    ^\\d?[.]?\\s?Experiment(s)?$| # \"experiment\" \"experiments\"\n",
      "    ^\\d?[.]?\\s?Evaluation(s)?((\\s)and(\\s)comparison(s)?)?$ # \"evaluation\" \"evaluations\" \"evaluation and comparisons\"\n",
      "|\n",
      "    ^\\d?[.]?\\s?Discussion(s)?$| # \"discussion\" \"discussions\"\n",
      "    ^\\d?[.]?\\s?Reference(s)?$| # \"reference\" \"references\"\n",
      "    ^\\d?[.]?\\s?Conclusion$| # \"conclusion\"\n",
      "    ^\\d?[.]?\\s?Literature(\\s)Review$| # \"literature review\"\n",
      "    ^\\d?[.]?\\s?Introduction$| # \"introduction\"\n",
      "    ^\\d?[.]?\\s?Abstract$| # \"abstract\"\n",
      "    ^\\d?[.]?\\s?Limitation(s)?$| # \"limitation\" \"limitations\"\n",
      "    ^\\d?[.]?\\s?Appendi(x)?(ces)?$| # \"appendix\" \"appendices\"\n",
      "    ^\\d?[.]?\\s?Bibliography$| # \"bibliography\"\n",
      "    ^\\d?[.]?\\s?Acknowledgement(s)?$| # \"acknowledgement\" \"acknowledgements\"\n",
      "    ^\\d?[.]?\\s?Tables(\\s)and(\\s)Figures$| # \"tables and figures\"\n",
      "    ^\\d?[.]?\\s?Related(\\s)Work$ # \"related work\"\n",
      "\n"
     ]
    }
   ],
   "source": [
    "# custom_regex = \"hi\"\n",
    "custom_regex = None\n",
    "if custom_regex:\n",
    "    regex_total += \"\\n    \"\n",
    "    if custom_regex[0] != \"|\":\n",
    "        custom_regex = \"|\" + custom_regex\n",
    "    regex_total += custom_regex\n",
    "print(regex_total)\n",
    "\n",
    "# add custom rules\n",
    "regex_total_cp = re.compile(regex_total, re.IGNORECASE | re.VERBOSE | re.MULTILINE)\n",
    "regex_method_cp = re.compile(regex_method, re.IGNORECASE | re.VERBOSE)\n",
    "regex_result_others_cp = re.compile(regex_result_others, re.IGNORECASE | re.VERBOSE)\n",
    "regex_result_only_cp = re.compile(regex_result_only, re.IGNORECASE | re.VERBOSE)"
   ]
  },
  {
   "cell_type": "code",
   "execution_count": 77,
   "metadata": {},
   "outputs": [
    {
     "name": "stdout",
     "output_type": "stream",
     "text": [
      "reading data from Arjovsky et al. - 2017 - Wasserstein GAN.pdf.txt...\n",
      "string successfully retrieved.\n",
      "\n",
      "<re.Match object; span=(140, 154), match='1 Introduction'>\n",
      "['1 Introduction']\n",
      "<re.Match object; span=(18649, 18668), match='4 Empirical Results'>\n",
      "['4 Empirical Results']\n",
      "<re.Match object; span=(26878, 26892), match='5 Related Work'>\n",
      "['5 Related Work']\n",
      "<re.Match object; span=(34696, 34706), match='References'>\n",
      "['References']\n",
      "-1\n",
      "1\n",
      "[140, 18649, 26878, 34696]\n"
     ]
    }
   ],
   "source": [
    "text = get_string_from_text_file(\n",
    "    filename=\"Arjovsky et al. - 2017 - Wasserstein GAN.pdf\"\n",
    ")\n",
    "\n",
    "method_idx = -1\n",
    "result_idx = -1\n",
    "result_flag = False  # because \"Results\" section can be called many names\n",
    "section_start_point_list = []\n",
    "for i, match in enumerate(regex_total_cp.finditer(text)):\n",
    "    section = match.group()\n",
    "    if regex_method_cp.search(section):\n",
    "        method_idx = i\n",
    "\n",
    "    # If there is an exact match with \"Results\"\n",
    "    if regex_result_only_cp.search(section):  # if there is an exact match\n",
    "        result_idx = i\n",
    "        result_flag = True\n",
    "    # If not, and if exact match has not been found yet, look for other names\n",
    "    if regex_result_others_cp.search(section) and not result_flag:\n",
    "        result_idx = i\n",
    "\n",
    "    section_start_point_list.append(match.start())\n",
    "    print(match)\n",
    "    print([match.group()])\n",
    "    # break\n",
    "\n",
    "\n",
    "print(method_idx)\n",
    "print(result_idx)\n",
    "print(section_start_point_list)"
   ]
  },
  {
   "cell_type": "code",
   "execution_count": 101,
   "metadata": {},
   "outputs": [],
   "source": [
    "list_length = len(section_start_point_list)\n",
    "start_idx = section_start_point_list[method_idx]\n",
    "end_idx = (\n",
    "    -1 if method_idx >= list_length - 1 else section_start_point_list[method_idx + 1]\n",
    ")\n",
    "method_text = text[start_idx:end_idx] if method_idx != -1 else \"\"\n",
    "end_idx = None if result_idx >= list_length - 1 else result_idx + 1\n",
    "\n",
    "start_idx = section_start_point_list[result_idx]\n",
    "end_idx = (\n",
    "    -1 if result_idx >= list_length - 1 else section_start_point_list[result_idx + 1]\n",
    ")\n",
    "result_text = text[start_idx:end_idx] if result_idx != -1 else \"\""
   ]
  },
  {
   "cell_type": "markdown",
   "metadata": {},
   "source": [
    "# Function Definition\n"
   ]
  },
  {
   "cell_type": "code",
   "execution_count": 167,
   "metadata": {},
   "outputs": [],
   "source": [
    "def extract(\n",
    "    filename: str,\n",
    "    regex_base: str,\n",
    "    custom_regex: str | None = None,\n",
    "    row_idx: int | None = -1,\n",
    ") -> None:\n",
    "    print(\"\\n====================================================\")\n",
    "    regex_total = regex_base\n",
    "    if custom_regex:\n",
    "        regex_total += \"\\n    \"\n",
    "        if custom_regex[0] != \"|\":\n",
    "            custom_regex = \"|\" + custom_regex\n",
    "        regex_total += custom_regex\n",
    "\n",
    "    # print(\"Final RegEx:\\n\", regex_total)\n",
    "\n",
    "    # add custom rules\n",
    "    regex_total_cp = re.compile(\n",
    "        regex_total,\n",
    "        re.IGNORECASE | re.VERBOSE | re.MULTILINE,\n",
    "    )\n",
    "    regex_method_cp = re.compile(regex_method, re.IGNORECASE | re.VERBOSE)\n",
    "    regex_result_others_cp = re.compile(regex_result_others, re.IGNORECASE | re.VERBOSE)\n",
    "    regex_result_only_cp = re.compile(regex_result_only, re.IGNORECASE | re.VERBOSE)\n",
    "\n",
    "    text = get_string_from_text_file(filename)\n",
    "\n",
    "    method_idx = -1\n",
    "    result_idx = -1\n",
    "    result_flag = False  # because \"Results\" section can be called many names\n",
    "    section_start_point_list = []\n",
    "    extracted_section_name_list = []\n",
    "    for i, match in enumerate(regex_total_cp.finditer(text)):\n",
    "        section = match.group()\n",
    "        if regex_method_cp.search(section):\n",
    "            method_idx = i\n",
    "\n",
    "        # If there is an exact match with \"Results\"\n",
    "        if regex_result_only_cp.search(section):  # if there is an exact match\n",
    "            result_idx = i\n",
    "            result_flag = True\n",
    "        # If not, and if exact match has not been found yet, look for other names\n",
    "        if regex_result_others_cp.search(section) and not result_flag:\n",
    "            result_idx = i\n",
    "\n",
    "        section_start_point_list.append(match.start())\n",
    "        # print(match)\n",
    "        extracted_section_name_list.append(match.group().strip())\n",
    "        print([match.group()])\n",
    "\n",
    "    list_length = len(section_start_point_list)\n",
    "    if list_length == 0:\n",
    "        print(\"No sections found...\")\n",
    "        return\n",
    "    start_idx = section_start_point_list[method_idx]\n",
    "    end_idx = (\n",
    "        len(text)\n",
    "        if method_idx >= list_length - 1\n",
    "        else section_start_point_list[method_idx + 1]\n",
    "    )\n",
    "    end_idx = min(end_idx, start_idx + 40000)\n",
    "    method_text = text[start_idx:end_idx] if method_idx != -1 else \"\"\n",
    "\n",
    "    start_idx = section_start_point_list[result_idx]\n",
    "    end_idx = (\n",
    "        len(text)\n",
    "        if result_idx >= list_length - 1\n",
    "        else section_start_point_list[result_idx + 1]\n",
    "    )\n",
    "    # 40000 -> char limit per section (50000 char limit on gs api)\n",
    "    end_idx = min(end_idx, start_idx + 40000)\n",
    "    result_text = text[start_idx:end_idx] if result_idx != -1 else \"\"\n",
    "\n",
    "    if row_idx != -1:\n",
    "        # connect to the service account\n",
    "        gc = gspread.service_account(filename=\"../creds.json\")\n",
    "\n",
    "        sh = gc.open(\"Paper Extraction Evaluation\").sheet1\n",
    "        print(f\"\\nUpdating google sheet row {row_idx}\")\n",
    "        sh.update_cell(row_idx, 1, filename[:-4])\n",
    "        sh.update_cell(row_idx, 2, \"\\n\".join(extracted_section_name_list))\n",
    "        sh.update_cell(row_idx, 4, method_text)\n",
    "        sh.update_cell(row_idx, 7, result_text)\n",
    "    else:\n",
    "        print(\"############ METHOD TEXT:\\n\", method_text)\n",
    "        print(\"############ RESULT TEXT:\\n\", result_text)\n",
    "        print(\n",
    "            \"############ Extracted Section List:\\n\",\n",
    "            \"\\n\".join(extracted_section_name_list),\n",
    "        )"
   ]
  },
  {
   "cell_type": "markdown",
   "metadata": {},
   "source": [
    "# Loop through text files\n"
   ]
  },
  {
   "cell_type": "code",
   "execution_count": 186,
   "metadata": {},
   "outputs": [
    {
     "name": "stdout",
     "output_type": "stream",
     "text": [
      "\n",
      "====================================================\n",
      "reading data from Yang et al. - 2022 - An Empirical Study of GPT-3 for Few-Shot Knowledge.pdf.txt...\n",
      "string successfully retrieved.\n",
      "\n",
      "['Abstract']\n",
      "['Introduction']\n",
      "['Related Work']\n",
      "['Conclusion']\n",
      "\n",
      "Updating google sheet row 100\n",
      "\n",
      "====================================================\n",
      "reading data from Schuhmann et al. - LAION-5B An open large-scale dataset for training.pdf.txt...\n",
      "string successfully retrieved.\n",
      "\n",
      "['Abstract']\n",
      "['1 Introduction']\n",
      "['2 Related Work']\n",
      "['8 Conclusion']\n",
      "['References']\n",
      "\n",
      "Updating google sheet row 101\n",
      "\n",
      "====================================================\n",
      "reading data from Giarelis et al. - 2023 - Abstractive vs. Extractive Summarization An Exper.pdf.txt...\n",
      "string successfully retrieved.\n",
      "\n",
      "['1. Introduction']\n",
      "['2. Related Work']\n",
      "['3. Evaluation']\n",
      "['References']\n",
      "\n",
      "Updating google sheet row 102\n"
     ]
    }
   ],
   "source": [
    "# row number that has already been executed\n",
    "breakpoint_row_num = 99\n",
    "for i, file in enumerate(os.listdir(\"../text\"), 3):\n",
    "    if i <= breakpoint_row_num:\n",
    "        continue\n",
    "    if (i - 3) >= 100:\n",
    "        break\n",
    "    extract(file, regex_total, row_idx=i)"
   ]
  },
  {
   "cell_type": "markdown",
   "metadata": {},
   "source": [
    "# Individual File\n"
   ]
  },
  {
   "cell_type": "code",
   "execution_count": 214,
   "metadata": {},
   "outputs": [
    {
     "name": "stdout",
     "output_type": "stream",
     "text": [
      "\n",
      "====================================================\n",
      "reading data from Chen et al. - 2021 - A Training-free and Reference-free Summarization E.pdf.txt...\n",
      "string successfully retrieved.\n",
      "\n",
      "['Abstract']\n",
      "['1 Introduction']\n",
      "['2 Preliminary']\n",
      "['3 Our Methodology']\n",
      "['4 Experiment Setup']\n",
      "['5 Results and Analysis']\n",
      "['6 Related Work']\n",
      "['7 Conclusion']\n",
      "['Acknowledgements']\n",
      "['References']\n",
      "\n",
      "Updating google sheet row 15\n"
     ]
    }
   ],
   "source": [
    "extract(\n",
    "    \"Chen et al. - 2021 - A Training-free and Reference-free Summarization E.pdf\",\n",
    "    regex_total,\n",
    "    row_idx=15,\n",
    ")"
   ]
  },
  {
   "cell_type": "code",
   "execution_count": null,
   "metadata": {},
   "outputs": [],
   "source": []
  }
 ],
 "metadata": {
  "kernelspec": {
   "display_name": "paper-extraction",
   "language": "python",
   "name": "python3"
  },
  "language_info": {
   "codemirror_mode": {
    "name": "ipython",
    "version": 3
   },
   "file_extension": ".py",
   "mimetype": "text/x-python",
   "name": "python",
   "nbconvert_exporter": "python",
   "pygments_lexer": "ipython3",
   "version": "3.12.1"
  }
 },
 "nbformat": 4,
 "nbformat_minor": 2
}
