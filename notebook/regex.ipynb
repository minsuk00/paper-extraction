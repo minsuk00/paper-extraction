{
 "cells": [
  {
   "cell_type": "code",
   "execution_count": 1,
   "metadata": {},
   "outputs": [],
   "source": [
    "import os\n",
    "import sys\n",
    "\n",
    "sys.path.append(\"../code\")\n",
    "from util import extract_pdf_to_txt"
   ]
  },
  {
   "cell_type": "code",
   "execution_count": 2,
   "metadata": {},
   "outputs": [],
   "source": [
    "done = os.listdir(\"../text\")\n",
    "for filename in os.listdir(\"../pdf\"):\n",
    "    if (filename + \".txt\") in done:\n",
    "        continue\n",
    "    extract_pdf_to_txt(filename, filename, \"local\")"
   ]
  },
  {
   "cell_type": "code",
   "execution_count": 3,
   "metadata": {},
   "outputs": [
    {
     "data": {
      "text/plain": [
       "116"
      ]
     },
     "execution_count": 3,
     "metadata": {},
     "output_type": "execute_result"
    }
   ],
   "source": [
    "done = os.listdir(\"../text\")\n",
    "len(done)"
   ]
  },
  {
   "cell_type": "markdown",
   "metadata": {},
   "source": [
    "# Google Sheets\n"
   ]
  },
  {
   "cell_type": "code",
   "execution_count": 132,
   "metadata": {},
   "outputs": [],
   "source": [
    "import gspread\n",
    "import time\n",
    "import math"
   ]
  },
  {
   "cell_type": "code",
   "execution_count": 6,
   "metadata": {},
   "outputs": [],
   "source": [
    "# connect to the service account\n",
    "gc = gspread.service_account(filename=\"../creds.json\")\n",
    "\n",
    "sh = gc.open(\"Paper Extraction Evaluation\").sheet1\n",
    "# sh.update_cell(10, 3, \"helloooo\")"
   ]
  },
  {
   "cell_type": "markdown",
   "metadata": {},
   "source": [
    "# RegEx\n"
   ]
  },
  {
   "cell_type": "code",
   "execution_count": 7,
   "metadata": {},
   "outputs": [],
   "source": [
    "import re\n",
    "\n",
    "import sys\n",
    "\n",
    "sys.path.append(\"../code\")\n",
    "\n",
    "from util import extract_doi_to_txt, get_string_from_text_file"
   ]
  },
  {
   "cell_type": "code",
   "execution_count": 117,
   "metadata": {},
   "outputs": [],
   "source": [
    "# ***Last line should not contain \"|\"***\n",
    "regex_method = r\"\"\"\n",
    "    ^\\s*\\d*[.]?\\s?(((O(\\s)?ur)|P(\\s)?roposed)(\\s))?M(\\s)?ethod(s)?(ology)?\\s*$|# \"method\" \"methods\" \"methodology\"\n",
    "    ^\\s*\\d*[.]?\\s?(M(\\s)?aterial(s)?|B(\\s)?ackground)((\\s)and(\\s)Method(s)?)?\\s*$| # \"materials and methods\" \"material\" \"materials\"\n",
    "    ^\\s*\\d*[.]?\\s?(P(\\s)?roposed(\\s))?A(\\s)?pproach(es)?\\s*$| # \"approach\" \"proposed approach\"\n",
    "    ^\\s*\\d*[.]?\\s?(O(\\s)?ur(\\s))?m(\\s)?odel(s)?\\s*$| # \"our model\" \"model\"\n",
    "    ^\\s*\\d*[.]?\\s?T(\\s)?raining\\s*$ # \"training\"\n",
    "    \n",
    "\"\"\"\n",
    "\n",
    "# ***Last line should not contain \"|\"***\n",
    "regex_result_only = r\"\"\"\n",
    "    ^\\s*\\d*[.]?\\s?R(\\s)?esult(s)?((\\s)and(\\s)(discussion|analysis))?\\s*$| # \"result\" \"results\" \"results and discussion\"\n",
    "    ^\\s*\\d*[.]?\\s?(P(\\s)?erformance(\\s))?A(\\s)?nalysis\\s*$| # \"performance analysis\"\n",
    "    ^\\s*\\d*[.]?\\s?((E(\\s)?mpirical|E(\\s)?xperimental)(\\s))?Result(s)?\\s*$| # \"empirical result\" \"experimental results\"\n",
    "    ^\\s*\\d*[.]?\\s?(E(\\s)?xperiment|D(\\s)?ownstream(\\s)task)(s)?(\\s)and(\\s)Result(s)?\\s*$ # \"experiment and results\"\n",
    "    \n",
    "\"\"\"\n",
    "# ***Last line should not contain \"|\"***\n",
    "regex_result_others = r\"\"\"\n",
    "    ^\\s*\\d*[.]?\\s?E(\\s)?xperiment(s)?((\\s)and(\\s)(discussion|application)(s)?)?\\s*$| # \"experiment\" \"experiments\" \"experiments and discussions\"\n",
    "    ^\\s*\\d*[.]?\\s?E(\\s)?valuation(s)?((\\s)and(\\s)comparison(s)?)?\\s*$| # \"evaluation\" \"evaluations\" \"evaluation and comparisons\"\n",
    "    ^\\s*\\d*[.]?\\s?C(\\s)?omparison(s)?((\\s)((with(\\s)State-of-the-arts)|(to(\\s)Human(\\s)Performance)))?\\s*$| # \"comparison\" \"comparison with state-of-the-arts\"\n",
    "    ^\\s*\\d*[.]?\\s?A(\\s)?pplication(s)?\\s*$ # \"application\"\n",
    "    \n",
    "\"\"\"\n",
    "\n",
    "# ***Last line should not contain \"|\"***\n",
    "regex_extra = r\"\"\"\n",
    "    ^\\s*\\d*[.]?\\s?(F(\\s)?urther(\\s))?D(\\s)?iscussion(s)?\\s*$| # \"discussion\" \"discussions\"\n",
    "    ^\\s*\\d*[.]?\\s?R(\\s)?eference(s)?\\s*$| # \"reference\" \"references\"\n",
    "    ^\\s*\\d*[.]?\\s?(Discussion(s)?(\\s)and(\\s))?C(\\s)?onclusion(s)?\\s*$| # \"conclusion\"\n",
    "    ^\\s*\\d*[.]?\\s?L(\\s)?iterature(\\s)Review\\s*$| # \"literature review\"\n",
    "    ^\\s*\\d*[.]?\\s?I(\\s)?ntroduction((\\s)and(\\s)Motivating(\\s)Work)?\\s*$| # \"introduction\"\n",
    "    ^\\s*\\d*[.]?\\s?A(\\s)?bstract\\s*$| # \"abstract\"\n",
    "    ^\\s*\\d*[.]?\\s?L(\\s)?imitation(s)?((\\s)(and|&)(\\s)(Discussion(s)|(Societal(\\s)Impact)|(Future(\\s)Work(s)?))?)?\\s*$| # \"limitation\" \"limitations\"\n",
    "    ^\\s*\\d*[.]?\\s?A(\\s)?ppendi(x)?(ces)?\\s*$| # \"appendix\" \"appendices\"\n",
    "    ^\\s*\\d*[.]?\\s?B(\\s)?ibliography\\s*$| # \"bibliography\"\n",
    "    ^\\s*\\d*[.]?\\s?A(\\s)?cknowledgement(s)?\\s*$| # \"acknowledgement\" \"acknowledgements\"\n",
    "    ^\\s*\\d*[.]?\\s?T(\\s)?ables(\\s)and(\\s)Figures\\s*$| # \"tables and figures\"\n",
    "    ^\\s*\\d*[.]?\\s?(R(\\s)?elated|P(\\s)?revious)(\\s)W(\\s)?ork(s)?\\s*$| # \"related work\"\n",
    "    ^\\s*\\d*[.]?\\s?A(\\s)?nalysis\\s*$| # \"analysis\"\n",
    "    ^\\s*\\d*[.]?\\s?(A(\\s)?dditional(\\s))?A(\\s)?blation(\\s)S(\\s)?tud(y|ies)\\s*$| # \"analysis\" \"ablation study\" \"additional ablation study\"\n",
    "    ^\\s*\\d*[.]?\\s?P(\\s)?reliminar(y|ies)\\s*$| # \"preliminary\"\n",
    "    ^\\s*\\d*[.]?\\s?E(\\s)?xperiment(\\s)Setup\\s*$| # \"experiment setup\"\n",
    "    ^\\s*\\d*[.]?\\s?B(\\s)?ackground\\s*$| # \"background\"\n",
    "    ^\\s*\\d*[.]?\\s?(B(\\s)?roader(\\s))?I(\\s)?mpact(s)?\\s*$| # \"broader impact\"\n",
    "    ^\\s*\\d*[.]?\\s?(C(\\s)?hallenges(\\s)and(\\s))?F(\\s)?uture(\\s)Direction(s)?\\s*$| # \"challenges and future direction\"\n",
    "    ^\\s*\\d*[.]?\\s?A(\\s)?cknowledgment(s)?\\s*$| # \"Acknowledgments\"\n",
    "    ^\\s*\\d*[.]?\\s?(E(\\s)?xperimental(\\s))?S(\\s)?etup\\s*$| # \"experimental setup\"\n",
    "    ^\\s*\\d*[.]?\\s?O(\\s)?verview\\s*$| # \"overview\"\n",
    "    ^\\s*\\d*[.]?\\s?(S(\\s)?afety(\\s))?C(\\s)?onsideration(s)?\\s*$| # \"Safety Considerations\"\n",
    "    ^\\s*\\d*[.]?\\s?F(\\s)?uture(\\s)work(s)?\\s*$| # \"future work\"\n",
    "    ^\\s*\\d*[.]?\\s?R(\\s)?esource(s)?\\s*$ # \"resources\"\n",
    "    \n",
    "    \n",
    "    \n",
    "\"\"\"\n",
    "\n",
    "regex_total = (\n",
    "    regex_method\n",
    "    + \"|\"\n",
    "    + regex_result_only\n",
    "    + \"|\"\n",
    "    + regex_result_others\n",
    "    + \"|\"\n",
    "    + regex_extra\n",
    ")"
   ]
  },
  {
   "cell_type": "markdown",
   "metadata": {},
   "source": [
    "# Testing\n"
   ]
  },
  {
   "cell_type": "code",
   "execution_count": 76,
   "metadata": {},
   "outputs": [
    {
     "name": "stdout",
     "output_type": "stream",
     "text": [
      "\n",
      "    ^\\d?[.]?\\s?Method(s)?(ology)?$|# \"method\" \"methods\" \"methodology\"\n",
      "    ^\\d?[.]?\\s?Material(s)?((\\s)and(\\s)Methods)?$ # \"materials and methods\" \"material\" \"materials\"\n",
      "|\n",
      "    ^\\d?[.]?\\s?Result(s)?((\\s)and(\\s)discussion)?$| # \"result\" \"results\" \"results and discussion\"\n",
      "    ^\\d?[.]?\\s?Empirical(\\s)Result(s)?$ # \"result\" \"results\" \"results and discussion\"\n",
      "    \n",
      "|\n",
      "    ^\\d?[.]?\\s?Experiment(s)?$| # \"experiment\" \"experiments\"\n",
      "    ^\\d?[.]?\\s?Evaluation(s)?((\\s)and(\\s)comparison(s)?)?$ # \"evaluation\" \"evaluations\" \"evaluation and comparisons\"\n",
      "|\n",
      "    ^\\d?[.]?\\s?Discussion(s)?$| # \"discussion\" \"discussions\"\n",
      "    ^\\d?[.]?\\s?Reference(s)?$| # \"reference\" \"references\"\n",
      "    ^\\d?[.]?\\s?Conclusion$| # \"conclusion\"\n",
      "    ^\\d?[.]?\\s?Literature(\\s)Review$| # \"literature review\"\n",
      "    ^\\d?[.]?\\s?Introduction$| # \"introduction\"\n",
      "    ^\\d?[.]?\\s?Abstract$| # \"abstract\"\n",
      "    ^\\d?[.]?\\s?Limitation(s)?$| # \"limitation\" \"limitations\"\n",
      "    ^\\d?[.]?\\s?Appendi(x)?(ces)?$| # \"appendix\" \"appendices\"\n",
      "    ^\\d?[.]?\\s?Bibliography$| # \"bibliography\"\n",
      "    ^\\d?[.]?\\s?Acknowledgement(s)?$| # \"acknowledgement\" \"acknowledgements\"\n",
      "    ^\\d?[.]?\\s?Tables(\\s)and(\\s)Figures$| # \"tables and figures\"\n",
      "    ^\\d?[.]?\\s?Related(\\s)Work$ # \"related work\"\n",
      "\n"
     ]
    }
   ],
   "source": [
    "# custom_regex = \"hi\"\n",
    "custom_regex = None\n",
    "if custom_regex:\n",
    "    regex_total += \"\\n    \"\n",
    "    if custom_regex[0] != \"|\":\n",
    "        custom_regex = \"|\" + custom_regex\n",
    "    regex_total += custom_regex\n",
    "print(regex_total)\n",
    "\n",
    "# add custom rules\n",
    "regex_total_cp = re.compile(regex_total, re.IGNORECASE | re.VERBOSE | re.MULTILINE)\n",
    "regex_method_cp = re.compile(regex_method, re.IGNORECASE | re.VERBOSE)\n",
    "regex_result_others_cp = re.compile(regex_result_others, re.IGNORECASE | re.VERBOSE)\n",
    "regex_result_only_cp = re.compile(regex_result_only, re.IGNORECASE | re.VERBOSE)"
   ]
  },
  {
   "cell_type": "code",
   "execution_count": 77,
   "metadata": {},
   "outputs": [
    {
     "name": "stdout",
     "output_type": "stream",
     "text": [
      "reading data from Arjovsky et al. - 2017 - Wasserstein GAN.pdf.txt...\n",
      "string successfully retrieved.\n",
      "\n",
      "<re.Match object; span=(140, 154), match='1 Introduction'>\n",
      "['1 Introduction']\n",
      "<re.Match object; span=(18649, 18668), match='4 Empirical Results'>\n",
      "['4 Empirical Results']\n",
      "<re.Match object; span=(26878, 26892), match='5 Related Work'>\n",
      "['5 Related Work']\n",
      "<re.Match object; span=(34696, 34706), match='References'>\n",
      "['References']\n",
      "-1\n",
      "1\n",
      "[140, 18649, 26878, 34696]\n"
     ]
    }
   ],
   "source": [
    "text = get_string_from_text_file(\n",
    "    filename=\"Arjovsky et al. - 2017 - Wasserstein GAN.pdf\"\n",
    ")\n",
    "\n",
    "method_idx = -1\n",
    "result_idx = -1\n",
    "result_flag = False  # because \"Results\" section can be called many names\n",
    "section_start_point_list = []\n",
    "for i, match in enumerate(regex_total_cp.finditer(text)):\n",
    "    section = match.group()\n",
    "    if regex_method_cp.search(section):\n",
    "        method_idx = i\n",
    "\n",
    "    # If there is an exact match with \"Results\"\n",
    "    if regex_result_only_cp.search(section):  # if there is an exact match\n",
    "        result_idx = i\n",
    "        result_flag = True\n",
    "    # If not, and if exact match has not been found yet, look for other names\n",
    "    if regex_result_others_cp.search(section) and not result_flag:\n",
    "        result_idx = i\n",
    "\n",
    "    section_start_point_list.append(match.start())\n",
    "    print(match)\n",
    "    print([match.group()])\n",
    "    # break\n",
    "\n",
    "\n",
    "print(method_idx)\n",
    "print(result_idx)\n",
    "print(section_start_point_list)"
   ]
  },
  {
   "cell_type": "code",
   "execution_count": 101,
   "metadata": {},
   "outputs": [],
   "source": [
    "list_length = len(section_start_point_list)\n",
    "start_idx = section_start_point_list[method_idx]\n",
    "end_idx = (\n",
    "    -1 if method_idx >= list_length - 1 else section_start_point_list[method_idx + 1]\n",
    ")\n",
    "method_text = text[start_idx:end_idx] if method_idx != -1 else \"\"\n",
    "end_idx = None if result_idx >= list_length - 1 else result_idx + 1\n",
    "\n",
    "start_idx = section_start_point_list[result_idx]\n",
    "end_idx = (\n",
    "    -1 if result_idx >= list_length - 1 else section_start_point_list[result_idx + 1]\n",
    ")\n",
    "result_text = text[start_idx:end_idx] if result_idx != -1 else \"\""
   ]
  },
  {
   "cell_type": "markdown",
   "metadata": {},
   "source": [
    "# Function Definition\n"
   ]
  },
  {
   "cell_type": "code",
   "execution_count": 17,
   "metadata": {},
   "outputs": [],
   "source": [
    "def extract(\n",
    "    filename: str,\n",
    "    regex_base: str,\n",
    "    custom_regex: str | None = None,\n",
    "    row_idx: int | None = -1,\n",
    ") -> None:\n",
    "    print(\"\\n====================================================\")\n",
    "    regex_total = regex_base\n",
    "    if custom_regex:\n",
    "        regex_total += \"\\n    \"\n",
    "        if custom_regex[0] != \"|\":\n",
    "            custom_regex = \"|\" + custom_regex\n",
    "        regex_total += custom_regex\n",
    "\n",
    "    # print(\"Final RegEx:\\n\", regex_total)\n",
    "\n",
    "    # add custom rules\n",
    "    regex_total_cp = re.compile(\n",
    "        regex_total,\n",
    "        re.IGNORECASE | re.VERBOSE | re.MULTILINE,\n",
    "    )\n",
    "    regex_method_cp = re.compile(regex_method, re.IGNORECASE | re.VERBOSE)\n",
    "    regex_result_others_cp = re.compile(regex_result_others, re.IGNORECASE | re.VERBOSE)\n",
    "    regex_result_only_cp = re.compile(regex_result_only, re.IGNORECASE | re.VERBOSE)\n",
    "\n",
    "    text = get_string_from_text_file(filename)\n",
    "\n",
    "    method_idx = -1\n",
    "    result_idx = -1\n",
    "    result_flag = False  # because \"Results\" section can be called many names\n",
    "    section_start_point_list = []\n",
    "    extracted_section_name_list = []\n",
    "    for i, match in enumerate(regex_total_cp.finditer(text)):\n",
    "        section = match.group()\n",
    "        if regex_method_cp.search(section):\n",
    "            method_idx = i\n",
    "\n",
    "        # If there is an exact match with \"Results\"\n",
    "        if regex_result_only_cp.search(section):  # if there is an exact match\n",
    "            result_idx = i\n",
    "            result_flag = True\n",
    "        # If not, and if exact match has not been found yet, look for other names\n",
    "        if regex_result_others_cp.search(section) and not result_flag:\n",
    "            result_idx = i\n",
    "\n",
    "        section_start_point_list.append(match.start())\n",
    "        # print(match)\n",
    "        extracted_section_name_list.append(match.group().strip())\n",
    "        print([match.group()])\n",
    "\n",
    "    list_length = len(section_start_point_list)\n",
    "    if list_length == 0:\n",
    "        print(\"No sections found...\")\n",
    "        return\n",
    "    start_idx = section_start_point_list[method_idx]\n",
    "    end_idx = (\n",
    "        len(text)\n",
    "        if method_idx >= list_length - 1\n",
    "        else section_start_point_list[method_idx + 1]\n",
    "    )\n",
    "    end_idx = min(end_idx, start_idx + 40000)\n",
    "    method_text = text[start_idx:end_idx] if method_idx != -1 else \"\"\n",
    "\n",
    "    start_idx = section_start_point_list[result_idx]\n",
    "    end_idx = (\n",
    "        len(text)\n",
    "        if result_idx >= list_length - 1\n",
    "        else section_start_point_list[result_idx + 1]\n",
    "    )\n",
    "    # 40000 -> char limit per section (50000 char limit on gs api)\n",
    "    end_idx = min(end_idx, start_idx + 40000)\n",
    "    result_text = text[start_idx:end_idx] if result_idx != -1 else \"\"\n",
    "\n",
    "    if row_idx != -1:\n",
    "        # connect to the service account\n",
    "        gc = gspread.service_account(filename=\"../creds.json\")\n",
    "\n",
    "        sh = gc.open(\"Paper Extraction Evaluation\").sheet1\n",
    "        print(f\"\\nUpdating google sheet row {row_idx}\")\n",
    "        sh.update_cell(row_idx, 1, filename[:-4])\n",
    "        sh.update_cell(row_idx, 2, \"\\n\".join(extracted_section_name_list))\n",
    "        sh.update_cell(row_idx, 4, method_text)\n",
    "        sh.update_cell(row_idx, 7, result_text)\n",
    "    else:\n",
    "        print(\"############ METHOD TEXT:\\n\", method_text)\n",
    "        print(\"############ RESULT TEXT:\\n\", result_text)\n",
    "        print(\n",
    "            \"############ Extracted Section List:\\n\",\n",
    "            \"\\n\".join(extracted_section_name_list),\n",
    "        )"
   ]
  },
  {
   "cell_type": "markdown",
   "metadata": {},
   "source": [
    "# Loop through text files\n"
   ]
  },
  {
   "cell_type": "code",
   "execution_count": 137,
   "metadata": {},
   "outputs": [
    {
     "data": {
      "text/plain": [
       "4"
      ]
     },
     "execution_count": 137,
     "metadata": {},
     "output_type": "execute_result"
    }
   ],
   "source": [
    "math.floor(math.log10(100)) + 2"
   ]
  },
  {
   "cell_type": "code",
   "execution_count": 139,
   "metadata": {},
   "outputs": [
    {
     "name": "stdout",
     "output_type": "stream",
     "text": [
      "\n",
      "====================================================\n",
      "reading data from Yao et al. - 2023 - Tree of Thoughts Deliberate Problem Solving with .pdf.txt...\n",
      "string successfully retrieved.\n",
      "\n",
      "['Abstract']\n",
      "['1 Introduction']\n",
      "['2 Background']\n",
      "['4 Experiments']\n",
      "['5 Related Work']\n",
      "['6 Discussion']\n",
      "['9Broader Impact']\n",
      "['Acknowledgements']\n",
      "['References']\n",
      "\n",
      "Updating google sheet row 89\n",
      "\n",
      "====================================================\n",
      "reading data from Kavasidis et al. - 2017 - Brain2Image Converting Brain Signals into .pdf.txt...\n",
      "string successfully retrieved.\n",
      "\n",
      "['ABSTRACT']\n",
      "['1 INTRODUCTION']\n",
      "['2 RELATED WORK']\n",
      "['3 METHOD']\n",
      "['4 PERFORMANCE ANALYSIS']\n",
      "['ACKNOWLEDGMENTS']\n",
      "['REFERENCES']\n",
      "Error.\n"
     ]
    }
   ],
   "source": [
    "# row number that has already been executed\n",
    "breakpoint_row_num = 88\n",
    "with open(\"../evaluation_paper_list.txt\", \"r\") as paper_list:\n",
    "    papers = paper_list.read().splitlines()\n",
    "\n",
    "for i, file in enumerate(papers, 3):\n",
    "    if i <= breakpoint_row_num:\n",
    "        continue\n",
    "    if (i - 3) >= 100:\n",
    "        break\n",
    "    flag = False\n",
    "    filename = file[math.floor(math.log10(i)) + 2 :]\n",
    "    while not flag:\n",
    "        try:\n",
    "            extract(filename, regex_total, row_idx=i)\n",
    "            flag = True\n",
    "        except gspread.exceptions.APIError as e:\n",
    "            print(\"API error. Retrying...\")\n",
    "            time.sleep(3)\n",
    "        except:\n",
    "            print(\"Error.\")\n",
    "            break\n",
    "    if not flag:\n",
    "        break"
   ]
  },
  {
   "cell_type": "markdown",
   "metadata": {},
   "source": [
    "# Individual File\n"
   ]
  },
  {
   "cell_type": "code",
   "execution_count": 118,
   "metadata": {},
   "outputs": [
    {
     "name": "stdout",
     "output_type": "stream",
     "text": [
      "\n",
      "====================================================\n",
      "reading data from He et al. - Thinking Image Color Aesthetics Assessment Models.pdf.txt...\n",
      "string successfully retrieved.\n",
      "\n",
      "['Abstract']\n",
      "['1. Introduction']\n",
      "['2. Related Work']\n",
      "['3. Proposed Approach']\n",
      "['5. Experiments']\n",
      "['6. Conclusions']\n",
      "['7. Acknowledgments']\n",
      "['21845\\nReferences']\n",
      "\n",
      "Updating google sheet row 67\n"
     ]
    }
   ],
   "source": [
    "extract(\n",
    "    \"He et al. - Thinking Image Color Aesthetics Assessment Models.pdf\",\n",
    "    regex_total,\n",
    "    row_idx=67,\n",
    ")"
   ]
  }
 ],
 "metadata": {
  "kernelspec": {
   "display_name": "paper-extraction",
   "language": "python",
   "name": "python3"
  },
  "language_info": {
   "codemirror_mode": {
    "name": "ipython",
    "version": 3
   },
   "file_extension": ".py",
   "mimetype": "text/x-python",
   "name": "python",
   "nbconvert_exporter": "python",
   "pygments_lexer": "ipython3",
   "version": "3.12.1"
  }
 },
 "nbformat": 4,
 "nbformat_minor": 2
}
