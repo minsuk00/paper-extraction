{
 "cells": [
  {
   "cell_type": "markdown",
   "metadata": {},
   "source": [
    "# Library\n"
   ]
  },
  {
   "cell_type": "markdown",
   "metadata": {},
   "source": [
    "## Import\n"
   ]
  },
  {
   "cell_type": "code",
   "execution_count": 16,
   "metadata": {},
   "outputs": [],
   "source": [
    "from typing import Literal\n",
    "import os\n",
    "import sys\n",
    "import gspread\n",
    "import re\n",
    "\n",
    "\n",
    "sys.path.append(\"../code\")\n",
    "from util import extract_doi_to_txt, get_string_from_text_file"
   ]
  },
  {
   "cell_type": "markdown",
   "metadata": {},
   "source": [
    "## LLM\n"
   ]
  },
  {
   "cell_type": "code",
   "execution_count": 8,
   "metadata": {},
   "outputs": [],
   "source": [
    "def apply_llm(string_data: str):\n",
    "    return 1"
   ]
  },
  {
   "cell_type": "markdown",
   "metadata": {},
   "source": [
    "## Regex\n"
   ]
  },
  {
   "cell_type": "markdown",
   "metadata": {},
   "source": [
    "### define regex\n"
   ]
  },
  {
   "cell_type": "code",
   "execution_count": 20,
   "metadata": {},
   "outputs": [],
   "source": [
    "# ***Last line should not contain \"|\"***\n",
    "regex_method = r\"\"\"\n",
    "    ^\\s*\\d*[.]?\\s?(((O(\\s)?ur)|P(\\s)?roposed)(\\s))?M(\\s)?ethod(s)?(ology)?\\s*$|# \"method\" \"methods\" \"methodology\"\n",
    "    ^\\s*\\d*[.]?\\s?(M(\\s)?aterial(s)?|B(\\s)?ackground)((\\s)and(\\s)Method(s)?)?\\s*$| # \"materials and methods\" \"material\" \"materials\"\n",
    "    ^\\s*\\d*[.]?\\s?(P(\\s)?roposed(\\s))?A(\\s)?pproach(es)?\\s*$| # \"approach\" \"proposed approach\"\n",
    "    ^\\s*\\d*[.]?\\s?(O(\\s)?ur(\\s))?m(\\s)?odel(s)?\\s*$| # \"our model\" \"model\"\n",
    "    ^\\s*\\d*[.]?\\s?T(\\s)?raining\\s*$ # \"training\"\n",
    "    \n",
    "\"\"\"\n",
    "\n",
    "# ***Last line should not contain \"|\"***\n",
    "regex_result_only = r\"\"\"\n",
    "    ^\\s*\\d*[.]?\\s?R(\\s)?esult(s)?((\\s)and(\\s)(discussion|analysis))?\\s*$| # \"result\" \"results\" \"results and discussion\"\n",
    "    ^\\s*\\d*[.]?\\s?(P(\\s)?erformance(\\s))?A(\\s)?nalysis\\s*$| # \"performance analysis\"\n",
    "    ^\\s*\\d*[.]?\\s?((E(\\s)?mpirical|E(\\s)?xperimental)(\\s))?Result(s)?\\s*$| # \"empirical result\" \"experimental results\"\n",
    "    ^\\s*\\d*[.]?\\s?(E(\\s)?xperiment|D(\\s)?ownstream(\\s)task)(s)?(\\s)and(\\s)Result(s)?\\s*$ # \"experiment and results\"\n",
    "    \n",
    "\"\"\"\n",
    "# ***Last line should not contain \"|\"***\n",
    "regex_result_others = r\"\"\"\n",
    "    ^\\s*\\d*[.]?\\s?E(\\s)?xperiment(s)?((\\s)and(\\s)(discussion|application)(s)?)?\\s*$| # \"experiment\" \"experiments\" \"experiments and discussions\"\n",
    "    ^\\s*\\d*[.]?\\s?E(\\s)?valuation(s)?((\\s)and(\\s)comparison(s)?)?\\s*$| # \"evaluation\" \"evaluations\" \"evaluation and comparisons\"\n",
    "    ^\\s*\\d*[.]?\\s?C(\\s)?omparison(s)?((\\s)((with(\\s)State-of-the-arts)|(to(\\s)Human(\\s)Performance)))?\\s*$| # \"comparison\" \"comparison with state-of-the-arts\"\n",
    "    ^\\s*\\d*[.]?\\s?A(\\s)?pplication(s)?\\s*$ # \"application\"\n",
    "    \n",
    "\"\"\"\n",
    "\n",
    "# ***Last line should not contain \"|\"***\n",
    "regex_extra = r\"\"\"\n",
    "    ^\\s*\\d*[.]?\\s?(F(\\s)?urther(\\s))?D(\\s)?iscussion(s)?\\s*$| # \"discussion\" \"discussions\"\n",
    "    ^\\s*\\d*[.]?\\s?R(\\s)?eference(s)?\\s*$| # \"reference\" \"references\"\n",
    "    ^\\s*\\d*[.]?\\s?(Discussion(s)?(\\s)and(\\s))?C(\\s)?onclusion(s)?\\s*$| # \"conclusion\"\n",
    "    ^\\s*\\d*[.]?\\s?L(\\s)?iterature(\\s)Review\\s*$| # \"literature review\"\n",
    "    ^\\s*\\d*[.]?\\s?I(\\s)?ntroduction((\\s)and(\\s)Motivating(\\s)Work)?\\s*$| # \"introduction\"\n",
    "    ^\\s*\\d*[.]?\\s?A(\\s)?bstract\\s*$| # \"abstract\"\n",
    "    ^\\s*\\d*[.]?\\s?L(\\s)?imitation(s)?((\\s)(and|&)(\\s)(Discussion(s)|(Societal(\\s)Impact)|(Future(\\s)Work(s)?))?)?\\s*$| # \"limitation\" \"limitations\"\n",
    "    ^\\s*\\d*[.]?\\s?A(\\s)?ppendi(x)?(ces)?\\s*$| # \"appendix\" \"appendices\"\n",
    "    ^\\s*\\d*[.]?\\s?B(\\s)?ibliography\\s*$| # \"bibliography\"\n",
    "    ^\\s*\\d*[.]?\\s?A(\\s)?cknowledgement(s)?\\s*$| # \"acknowledgement\" \"acknowledgements\"\n",
    "    ^\\s*\\d*[.]?\\s?T(\\s)?ables(\\s)and(\\s)Figures\\s*$| # \"tables and figures\"\n",
    "    ^\\s*\\d*[.]?\\s?(R(\\s)?elated|P(\\s)?revious)(\\s)W(\\s)?ork(s)?\\s*$| # \"related work\"\n",
    "    ^\\s*\\d*[.]?\\s?A(\\s)?nalysis\\s*$| # \"analysis\"\n",
    "    ^\\s*\\d*[.]?\\s?(A(\\s)?dditional(\\s))?A(\\s)?blation(\\s)S(\\s)?tud(y|ies)\\s*$| # \"analysis\" \"ablation study\" \"additional ablation study\"\n",
    "    ^\\s*\\d*[.]?\\s?P(\\s)?reliminar(y|ies)\\s*$| # \"preliminary\"\n",
    "    ^\\s*\\d*[.]?\\s?E(\\s)?xperiment(\\s)Setup\\s*$| # \"experiment setup\"\n",
    "    ^\\s*\\d*[.]?\\s?B(\\s)?ackground\\s*$| # \"background\"\n",
    "    ^\\s*\\d*[.]?\\s?(B(\\s)?roader(\\s))?I(\\s)?mpact(s)?\\s*$| # \"broader impact\"\n",
    "    ^\\s*\\d*[.]?\\s?(C(\\s)?hallenges(\\s)and(\\s))?F(\\s)?uture(\\s)Direction(s)?\\s*$| # \"challenges and future direction\"\n",
    "    ^\\s*\\d*[.]?\\s?A(\\s)?cknowledgment(s)?\\s*$| # \"Acknowledgments\"\n",
    "    ^\\s*\\d*[.]?\\s?(E(\\s)?xperimental(\\s))?S(\\s)?etup\\s*$| # \"experimental setup\"\n",
    "    ^\\s*\\d*[.]?\\s?O(\\s)?verview\\s*$| # \"overview\"\n",
    "    ^\\s*\\d*[.]?\\s?(S(\\s)?afety(\\s))?C(\\s)?onsideration(s)?\\s*$| # \"Safety Considerations\"\n",
    "    ^\\s*\\d*[.]?\\s?F(\\s)?uture(\\s)work(s)?\\s*$| # \"future work\"\n",
    "    ^\\s*\\d*[.]?\\s?R(\\s)?esource(s)?\\s*$ # \"resources\"\n",
    "\"\"\"\n",
    "\n",
    "regex_total = (\n",
    "    regex_method\n",
    "    + \"|\"\n",
    "    + regex_result_only\n",
    "    + \"|\"\n",
    "    + regex_result_others\n",
    "    + \"|\"\n",
    "    + regex_extra\n",
    ")"
   ]
  },
  {
   "cell_type": "markdown",
   "metadata": {},
   "source": [
    "### regex_method\n"
   ]
  },
  {
   "cell_type": "code",
   "execution_count": 23,
   "metadata": {},
   "outputs": [],
   "source": [
    "def apply_regex(string_data: str):\n",
    "    regex_total_cp = re.compile(\n",
    "        regex_total,\n",
    "        re.IGNORECASE | re.VERBOSE | re.MULTILINE,\n",
    "    )\n",
    "    regex_method_cp = re.compile(regex_method, re.IGNORECASE | re.VERBOSE)\n",
    "    regex_result_others_cp = re.compile(regex_result_others, re.IGNORECASE | re.VERBOSE)\n",
    "    regex_result_only_cp = re.compile(regex_result_only, re.IGNORECASE | re.VERBOSE)\n",
    "\n",
    "    method_idx = -1\n",
    "    result_idx = -1\n",
    "    result_flag = False  # because \"Results\" section can be called many names\n",
    "    section_start_point_list = []\n",
    "    extracted_section_name_list = []\n",
    "    for i, match in enumerate(regex_total_cp.finditer(string_data)):\n",
    "        section = match.group()\n",
    "        if regex_method_cp.search(section):\n",
    "            method_idx = i\n",
    "\n",
    "        # If there is an exact match with \"Results\"\n",
    "        if regex_result_only_cp.search(section):  # if there is an exact match\n",
    "            result_idx = i\n",
    "            result_flag = True\n",
    "        # If not, and if exact match has not been found yet, look for other names\n",
    "        if regex_result_others_cp.search(section) and not result_flag:\n",
    "            result_idx = i\n",
    "\n",
    "        section_start_point_list.append(match.start())\n",
    "        # print(match)\n",
    "        extracted_section_name_list.append(match.group().strip())\n",
    "        print([match.group()])\n",
    "\n",
    "    list_length = len(section_start_point_list)\n",
    "    if list_length == 0:\n",
    "        print(\"No sections found...\")\n",
    "        return\n",
    "    start_idx = section_start_point_list[method_idx]\n",
    "    end_idx = (\n",
    "        len(string_data)\n",
    "        if method_idx >= list_length - 1\n",
    "        else section_start_point_list[method_idx + 1]\n",
    "    )\n",
    "    end_idx = min(end_idx, start_idx + 40000)\n",
    "    method_text = string_data[start_idx:end_idx] if method_idx != -1 else \"\"\n",
    "\n",
    "    start_idx = section_start_point_list[result_idx]\n",
    "    end_idx = (\n",
    "        len(string_data)\n",
    "        if result_idx >= list_length - 1\n",
    "        else section_start_point_list[result_idx + 1]\n",
    "    )\n",
    "    # 40000 -> char limit per section (50000 char limit on gs api)\n",
    "    end_idx = min(end_idx, start_idx + 40000)\n",
    "    result_text = string_data[start_idx:end_idx] if result_idx != -1 else \"\"\n",
    "\n",
    "    print(\"############ METHOD TEXT:\\n\", method_text)\n",
    "    print(\"############ RESULT TEXT:\\n\", result_text)\n",
    "    print(\n",
    "        \"############ Extracted Section List:\\n\",\n",
    "        \"\\n\".join(extracted_section_name_list),\n",
    "    )"
   ]
  },
  {
   "cell_type": "markdown",
   "metadata": {},
   "source": [
    "## Extract\n"
   ]
  },
  {
   "cell_type": "code",
   "execution_count": 19,
   "metadata": {},
   "outputs": [],
   "source": [
    "def extract(string_data: str, extraction_method: Literal[\"regex\", \"llm\"] = \"regex\"):\n",
    "    if extraction_method == \"regex\":\n",
    "        res = apply_regex(string_data)\n",
    "    elif extraction_method == \"llm\":\n",
    "        res = apply_llm(string_data)\n",
    "    return res\n",
    "    # return result dictionary"
   ]
  },
  {
   "cell_type": "markdown",
   "metadata": {},
   "source": [
    "## google spreadsheet\n"
   ]
  },
  {
   "cell_type": "code",
   "execution_count": 15,
   "metadata": {},
   "outputs": [],
   "source": [
    "# connect to the service account\n",
    "gc = gspread.service_account(filename=\"../creds.json\")\n",
    "\n",
    "sh = gc.open(\"Paper Extraction Evaluation\").sheet1"
   ]
  },
  {
   "cell_type": "code",
   "execution_count": 18,
   "metadata": {},
   "outputs": [],
   "source": [
    "# get result dictionary from extract and update gs"
   ]
  },
  {
   "cell_type": "markdown",
   "metadata": {},
   "source": [
    "# Test\n"
   ]
  },
  {
   "cell_type": "code",
   "execution_count": 21,
   "metadata": {},
   "outputs": [],
   "source": [
    "with open(\n",
    "    \"/Users/ms/cs/ML/MLab/paper-extraction/text/Alayrac et al. - 2022 - Flamingo a Visual Language Model for Few-Shot Lea.pdf.txt\",\n",
    "    \"r\",\n",
    ") as file:\n",
    "    content = file.read()"
   ]
  },
  {
   "cell_type": "code",
   "execution_count": 24,
   "metadata": {},
   "outputs": [
    {
     "data": {
      "text/plain": [
       "1"
      ]
     },
     "execution_count": 24,
     "metadata": {},
     "output_type": "execute_result"
    }
   ],
   "source": [
    "extract(content, \"regex\")"
   ]
  }
 ],
 "metadata": {
  "kernelspec": {
   "display_name": "paper-extraction",
   "language": "python",
   "name": "python3"
  },
  "language_info": {
   "codemirror_mode": {
    "name": "ipython",
    "version": 3
   },
   "file_extension": ".py",
   "mimetype": "text/x-python",
   "name": "python",
   "nbconvert_exporter": "python",
   "pygments_lexer": "ipython3",
   "version": "3.12.1"
  }
 },
 "nbformat": 4,
 "nbformat_minor": 2
}
