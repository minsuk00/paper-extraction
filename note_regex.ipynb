{
 "cells": [
  {
   "cell_type": "markdown",
   "metadata": {},
   "source": [
    "# Patterns\n"
   ]
  },
  {
   "cell_type": "markdown",
   "metadata": {},
   "source": [
    "- Assume that section name exists solely in a line\n",
    "\n",
    "- Names for Methodology\n",
    "  - Methods\n",
    "  - Method\n",
    "  - Methodology\n",
    "  - Our Methodology\n",
    "  - Materials and methods\n",
    "  - Approach\n",
    "  - Specific name (e.g. VideoComposer)\n",
    "- Names for Results\n",
    "  - Results\n",
    "  - Result\n",
    "  - Results and Discussion\n",
    "  - Empirical Results\n",
    "  - Experiments\n",
    "  - Evaluation and Comparisons\n",
    "  - Evaluation\n",
    "  - Analysis\n",
    "  - results and analysis\n",
    "- Names for other sections\n",
    "  - Discussion\n",
    "  - References\n",
    "  - Conclusion\n",
    "  - Literature Review\n",
    "  - Introduction\n",
    "  - Abstract\n",
    "  - Limitations\n",
    "  - Appendix / Appendices\n",
    "  - Bibliography\n",
    "  - Acknowledgments\n",
    "  - Tables and Figures\n",
    "  - Related Work\n",
    "  - Previous Work\n",
    "  - Ablation study\n",
    "  - Preliminary\n",
    "  - Experiment Setup\n",
    "\n",
    "1. Number Name (4 Experiments)\n",
    "2. Number dot Name (3. Method)\n",
    "3. Name (Method)\n",
    "4. Space in front/end\n",
    "5. /two.tnum?? (walther et al)\n"
   ]
  },
  {
   "cell_type": "markdown",
   "metadata": {},
   "source": [
    "# Note\n"
   ]
  },
  {
   "cell_type": "markdown",
   "metadata": {},
   "source": []
  },
  {
   "cell_type": "markdown",
   "metadata": {},
   "source": [
    "# Things to talk about\n"
   ]
  },
  {
   "cell_type": "markdown",
   "metadata": {},
   "source": [
    "- what if both experiment&analysis&result&comparison exist\n",
    "- Methods part -> specific name of each paper -> how to take care\n",
    "- only scientific papers? what areas (only tried cs/ai)\n",
    "  -> mostly on scientific field. physics, chem, biology, etc\n",
    "- what if paper doesn't have result/method section (e.g. review papers)\n",
    "  -> no need to care about review papers\n",
    "- Some don't start in a new line\n",
    "- Some strange pdf-to-text conversion (e.g. make-a-video paper) (Limitation of pypdf?) -> space between, strange numbers, no new line\n",
    "- multiple sections for methods/results/experiments\n",
    "- notion meeting page?\n",
    "\n",
    "-> continue with more papers (1k papers w/o review papers). try with more papers\n",
    "-> try adding introduction conclusion section.\n",
    "-> scoring section -> (precision/recall etc)\n",
    "-> simple ML classification task (just investigation)\n",
    "do some research.\n",
    "(identify start/end of seq)\n",
    "-> think of summarization techniques, variable length\n",
    "what is the best summary (structure of the summary. paragraph, bullet points?)\n",
    "context length of the summary (might be variable to the original context)\n",
    "e.g. 1000 words -> 200 word, compression ratio. (how to measure? BLEU)\n",
    "optimizing the BLEU score\n",
    "-> upload code to github\n"
   ]
  },
  {
   "cell_type": "markdown",
   "metadata": {},
   "source": [
    "# TODO\n"
   ]
  },
  {
   "cell_type": "markdown",
   "metadata": {},
   "source": [
    "- 모듈화 해서 함수로 만들기\n",
    "- sheets 여러개 만들 수 있게 하기\n",
    "- 안되는 부분 조사하기\n",
    "- 자동화하기 (batch update)\n",
    "- add introduction/conclusion section\n",
    "- precision/recall등 계산\n"
   ]
  },
  {
   "cell_type": "markdown",
   "metadata": {},
   "source": [
    "모듈화\n",
    "\n",
    "- loop()\n",
    "  - foreach in list of papers\n",
    "    - extract from filename\n",
    "  - batch update\n",
    "- extract from filename (filename)\n",
    "- extract from doi (doi)\n",
    "  - if not in text dir, get txt first\n",
    "- extract(string of file, regex or llm)\n",
    "  - if regex\n",
    "    - apply regex\n",
    "  - else\n",
    "    - apply llm\n",
    "- apply regex (string)\n",
    "  - intro, method, result, conclusion\n",
    "- apply llm (string)\n",
    "  - token length??\n"
   ]
  },
  {
   "cell_type": "markdown",
   "metadata": {},
   "source": [
    "# Reference\n"
   ]
  },
  {
   "cell_type": "markdown",
   "metadata": {},
   "source": [
    "- python doc of re (https://docs.python.org/3/library/re.html)\n",
    "- Regex Simulator (https://regexr.com/)\n",
    "- Simulator2 (https://regex101.com/r/qgYPxI/2)\n",
    "- eg (https://github.com/ChefQ/Research-paper-parser/tree/main)\n",
    "- Intro (https://www.w3schools.com/python/python_regex.asp)\n",
    "- Syntax (https://www3.ntu.edu.sg/home/ehchua/programming/howto/Regexe.html)\n",
    "- Regex compile (https://pynative.com/python-regex-compile/)\n",
    "- Compile Flags (https://docs.python.org/3/library/re.html#flags)\n",
    "- Stack overflow (https://stackoverflow.com/questions/48770528/breaking-up-text-document-into-sections-with-python-using-regex-match-on-section)\n",
    "- findall vs finditer (https://zephyrus1111.tistory.com/321)\n",
    "- group name (https://emilkwak.github.io/python-re-named-group)\n",
    "- example parsing tax data (https://www.thedataschool.com.au/anders-wold/parsing-data-with-regex/)\n",
    "- example parsing html (https://scrapingant.com/blog/regex-web-scraping)\n",
    "\n",
    "---\n",
    "\n",
    "---\n",
    "\n",
    "---\n"
   ]
  }
 ],
 "metadata": {
  "kernelspec": {
   "display_name": "paper-extraction",
   "language": "python",
   "name": "python3"
  },
  "language_info": {
   "codemirror_mode": {
    "name": "ipython",
    "version": 3
   },
   "file_extension": ".py",
   "mimetype": "text/x-python",
   "name": "python",
   "nbconvert_exporter": "python",
   "pygments_lexer": "ipython3",
   "version": "3.12.1"
  }
 },
 "nbformat": 4,
 "nbformat_minor": 2
}
